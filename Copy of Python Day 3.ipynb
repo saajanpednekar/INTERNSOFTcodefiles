{
 "cells": [
  {
   "cell_type": "markdown",
   "metadata": {
    "id": "iH6AyebcoCze"
   },
   "source": [
    "# In this session, we are going to explore other container objects and functions\n",
    "\n",
    "## In this session, we are going to learn the following key topics:\n",
    "*   Tuple\n",
    "*   Set\n",
    "*   Dictionary\n",
    "*   Function\n",
    "*   Lambda\n",
    "*   Iterator\n",
    "*   Generator\n",
    "*   Map\n",
    "*   Reduce\n",
    "*   Filter"
   ]
  },
  {
   "cell_type": "markdown",
   "metadata": {
    "id": "K2rxJxEToCzk"
   },
   "source": [
    "# Tuples\n",
    "\n",
    "In Python, tuples are similar to lists but they are immutable i.e. they cannot be changed. You would use the tuples to present data that shouldn't be changed, such as days of week or dates on  a calendar.\n",
    "\n",
    "In this section, we will get a brief overview of the following key topics:\n",
    "\n",
    "    1.) Constructing Tuples\n",
    "    2.) Basic Tuple Methods\n",
    "    3.) Immutability\n",
    "    4.) When to Use Tuples\n",
    "\n",
    "You'll have an intuition of how to use tuples based on what you've learned about lists. But, Tuples work very similar to lists but the  major difference is tuples are immutable.\n",
    "\n",
    "## Constructing Tuples\n",
    "\n",
    "The construction of tuples use () with elements separated by commas where in the arguments will be passed within brackets. For example:"
   ]
  },
  {
   "cell_type": "code",
   "execution_count": 1,
   "metadata": {
    "id": "VU5aveiKoCzl"
   },
   "outputs": [],
   "source": [
    "# Can create a tuple with mixed types\n",
    "t=(1,2,3)"
   ]
  },
  {
   "cell_type": "code",
   "execution_count": 3,
   "metadata": {
    "id": "3sQhx1XIoCzm"
   },
   "outputs": [
    {
     "data": {
      "text/plain": [
       "3"
      ]
     },
     "execution_count": 3,
     "metadata": {},
     "output_type": "execute_result"
    }
   ],
   "source": [
    "# Check len just like a list\n",
    "len(t)"
   ]
  },
  {
   "cell_type": "code",
   "execution_count": 5,
   "metadata": {
    "id": "D-cP7IqNoCzn"
   },
   "outputs": [
    {
     "data": {
      "text/plain": [
       "('one', 3, 5, 1)"
      ]
     },
     "execution_count": 5,
     "metadata": {},
     "output_type": "execute_result"
    }
   ],
   "source": [
    "# Can also mix object types\n",
    "t=('one',3,5,1)\n",
    "# Show\n",
    "t"
   ]
  },
  {
   "cell_type": "code",
   "execution_count": 6,
   "metadata": {
    "id": "c2jedinJoCzn"
   },
   "outputs": [
    {
     "data": {
      "text/plain": [
       "'one'"
      ]
     },
     "execution_count": 6,
     "metadata": {},
     "output_type": "execute_result"
    }
   ],
   "source": [
    "# Use indexing just like we did in lists\n",
    "t[0]"
   ]
  },
  {
   "cell_type": "code",
   "execution_count": 7,
   "metadata": {
    "id": "MnNu696soCzo"
   },
   "outputs": [
    {
     "data": {
      "text/plain": [
       "1"
      ]
     },
     "execution_count": 7,
     "metadata": {},
     "output_type": "execute_result"
    }
   ],
   "source": [
    "# Slicing just like a list\n",
    "t[-1]"
   ]
  },
  {
   "cell_type": "markdown",
   "metadata": {
    "id": "bG7tUrPNoCzo"
   },
   "source": [
    "## Basic Tuple Methods\n",
    "\n",
    "Tuples have built-in methods, but not as many as lists do. Let's see two samples of tuple built-in methods:"
   ]
  },
  {
   "cell_type": "code",
   "execution_count": 8,
   "metadata": {
    "id": "Ih8Sh5GRoCzp"
   },
   "outputs": [
    {
     "data": {
      "text/plain": [
       "0"
      ]
     },
     "execution_count": 8,
     "metadata": {},
     "output_type": "execute_result"
    }
   ],
   "source": [
    "# Use .index to enter a value and return the index\n",
    "t.index('one')"
   ]
  },
  {
   "cell_type": "code",
   "execution_count": 9,
   "metadata": {
    "id": "3n_Mb2p2oCzq"
   },
   "outputs": [
    {
     "data": {
      "text/plain": [
       "1"
      ]
     },
     "execution_count": 9,
     "metadata": {},
     "output_type": "execute_result"
    }
   ],
   "source": [
    "# Use .count to count the number of times a value appears\n",
    "t.count('one')"
   ]
  },
  {
   "cell_type": "markdown",
   "metadata": {
    "id": "RBSHdtQ-oCzq"
   },
   "source": [
    "## Immutability\n",
    "\n",
    "As tuples are immutable, it can't be stressed enough and add more into it. To drive that point home:"
   ]
  },
  {
   "cell_type": "code",
   "execution_count": 10,
   "metadata": {
    "id": "8Cbd9kZ5oCzq"
   },
   "outputs": [
    {
     "ename": "TypeError",
     "evalue": "'tuple' object does not support item assignment",
     "output_type": "error",
     "traceback": [
      "\u001b[1;31m---------------------------------------------------------------------------\u001b[0m",
      "\u001b[1;31mTypeError\u001b[0m                                 Traceback (most recent call last)",
      "Cell \u001b[1;32mIn[10], line 1\u001b[0m\n\u001b[1;32m----> 1\u001b[0m t[\u001b[38;5;241m0\u001b[39m]\u001b[38;5;241m=\u001b[39m\u001b[38;5;124m'\u001b[39m\u001b[38;5;124mchange\u001b[39m\u001b[38;5;124m'\u001b[39m\n",
      "\u001b[1;31mTypeError\u001b[0m: 'tuple' object does not support item assignment"
     ]
    }
   ],
   "source": [
    "t[0]='change'"
   ]
  },
  {
   "cell_type": "markdown",
   "metadata": {
    "id": "6sElHWOwoCzq"
   },
   "source": [
    "Because tuple being immutable they can't grow. Once a tuple is made we can not add to it."
   ]
  },
  {
   "cell_type": "code",
   "execution_count": 11,
   "metadata": {
    "id": "p5aNze-AoCzq"
   },
   "outputs": [
    {
     "ename": "AttributeError",
     "evalue": "'tuple' object has no attribute 'append'",
     "output_type": "error",
     "traceback": [
      "\u001b[1;31m---------------------------------------------------------------------------\u001b[0m",
      "\u001b[1;31mAttributeError\u001b[0m                            Traceback (most recent call last)",
      "Cell \u001b[1;32mIn[11], line 1\u001b[0m\n\u001b[1;32m----> 1\u001b[0m t\u001b[38;5;241m.\u001b[39mappend(\u001b[38;5;124m'\u001b[39m\u001b[38;5;124mnope\u001b[39m\u001b[38;5;124m'\u001b[39m)\n",
      "\u001b[1;31mAttributeError\u001b[0m: 'tuple' object has no attribute 'append'"
     ]
    }
   ],
   "source": [
    "t.append('nope')"
   ]
  },
  {
   "cell_type": "markdown",
   "metadata": {
    "id": "SuYLut7noCzq"
   },
   "source": [
    "## When to use Tuples\n",
    "\n",
    "You may be wondering, \"Why to bother using tuples when they have a few available methods?\"\n",
    "\n",
    "Tuples are not used often as lists in programming but are used when immutability is necessary. While you are passing around an object and if you need to make sure that it does not get changed then tuple become your solution. It provides a convenient source of data integrity.\n",
    "\n",
    "You should now be able to create and use tuples in your programming as well as have a complete understanding of their immutability."
   ]
  },
  {
   "cell_type": "markdown",
   "metadata": {
    "id": "OA6tm3zMoCzr"
   },
   "source": [
    "# Sets\n",
    "\n",
    "Sets are an unordered collection of *unique* elements which can be constructed using the set() function.\n",
    "\n",
    "Let's go ahead and create a set to see how it works."
   ]
  },
  {
   "cell_type": "code",
   "execution_count": 12,
   "metadata": {
    "id": "5EL7AdJCoCzr"
   },
   "outputs": [],
   "source": [
    "x=set()"
   ]
  },
  {
   "cell_type": "code",
   "execution_count": 13,
   "metadata": {
    "id": "9LnzX9VAoCzr"
   },
   "outputs": [],
   "source": [
    "# We add to sets with the add() method\n",
    "x.add(1)"
   ]
  },
  {
   "cell_type": "code",
   "execution_count": 14,
   "metadata": {
    "id": "2_g38uYToCzr"
   },
   "outputs": [
    {
     "data": {
      "text/plain": [
       "{1}"
      ]
     },
     "execution_count": 14,
     "metadata": {},
     "output_type": "execute_result"
    }
   ],
   "source": [
    "#Show\n",
    "x"
   ]
  },
  {
   "cell_type": "markdown",
   "metadata": {
    "id": "6HNZ0IhToCzr"
   },
   "source": [
    "Note that the curly brackets do not indicate a dictionary! Using only keys, you can draw analogies as a set being a dictionary.\n",
    "\n",
    "We know that a set has an only unique entry. Now, let us see what happens when we try to add something more that is already present in a set?"
   ]
  },
  {
   "cell_type": "code",
   "execution_count": null,
   "metadata": {
    "id": "nEM0oxfIoCzr"
   },
   "outputs": [],
   "source": [
    "# Add a different element\n",
    "x.add(2)"
   ]
  },
  {
   "cell_type": "code",
   "execution_count": 15,
   "metadata": {
    "id": "votEMi7FoCzr"
   },
   "outputs": [
    {
     "data": {
      "text/plain": [
       "{1}"
      ]
     },
     "execution_count": 15,
     "metadata": {},
     "output_type": "execute_result"
    }
   ],
   "source": [
    "#Show\n",
    "x"
   ]
  },
  {
   "cell_type": "code",
   "execution_count": null,
   "metadata": {
    "id": "p62VdmreoCzs"
   },
   "outputs": [],
   "source": [
    "# Try to add the same element\n",
    "x.add(1)"
   ]
  },
  {
   "cell_type": "code",
   "execution_count": 16,
   "metadata": {
    "id": "3uRXCOSmoCzs"
   },
   "outputs": [
    {
     "data": {
      "text/plain": [
       "{1}"
      ]
     },
     "execution_count": 16,
     "metadata": {},
     "output_type": "execute_result"
    }
   ],
   "source": [
    "#Show\n",
    "x"
   ]
  },
  {
   "cell_type": "markdown",
   "metadata": {
    "id": "SqP5eRW5oCzs"
   },
   "source": [
    "Notice, how it won't place another 1 there as a set is only concerned with unique elements! However, We can cast a list with multiple repeat elements to a set to get the unique elements. For example:"
   ]
  },
  {
   "cell_type": "code",
   "execution_count": 17,
   "metadata": {
    "id": "KDO5pE9xoCzs"
   },
   "outputs": [],
   "source": [
    "# Create a list with repeats\n",
    "l=[1,1,2,2,3,4,5,6,7,1]"
   ]
  },
  {
   "cell_type": "code",
   "execution_count": 18,
   "metadata": {
    "id": "4jI_p0m9oCzs"
   },
   "outputs": [
    {
     "data": {
      "text/plain": [
       "{1, 2, 3, 4, 5, 6, 7}"
      ]
     },
     "execution_count": 18,
     "metadata": {},
     "output_type": "execute_result"
    }
   ],
   "source": [
    "# Cast as set to get unique values\n",
    "set(l)"
   ]
  },
  {
   "cell_type": "markdown",
   "metadata": {
    "id": "laBli3CJoCzs"
   },
   "source": [
    "# Dictionaries\n",
    "\n",
    "We have learned about \"Sequences\" in the previous session. Now, let's switch the gears and learn about \"mappings\" in Python. These dictionaries are nothing but hash tables in other programming languages.\n",
    "\n",
    "In this section, we will learn briefly about an introduction to dictionaries and what it consists of:\n",
    "\n",
    "    1.) Constructing a Dictionary\n",
    "    2.) Accessing objects from a Dictionary\n",
    "    3.) Nesting Dictionaries\n",
    "    4.) Basic Dictionary Methods\n",
    "\n",
    "Before we dive deep into this concept, let's understand what are Mappings?\n",
    "\n",
    "Mappings are a collection of objects that are stored by a \"key\". Unlike a sequence, mapping store objects by their relative position. This is an important distinction since mappings won't retain the order since they have objects defined by a key.\n",
    "\n",
    "A Python dictionary consists of a key and then an associated value. That value can be almost any Python object.\n",
    "\n",
    "\n",
    "## Constructing a Dictionary\n",
    "Let's see how we can construct dictionaries to get a better understanding of how they work!"
   ]
  },
  {
   "cell_type": "code",
   "execution_count": 19,
   "metadata": {
    "id": "zqnWlipYoCzs"
   },
   "outputs": [],
   "source": [
    "# Make a dictionary with {} and : to signify a key and a value\n",
    "md={'key1':'value1','key2':'value2'}"
   ]
  },
  {
   "cell_type": "code",
   "execution_count": 20,
   "metadata": {
    "id": "mgRKYCU0oCzs"
   },
   "outputs": [
    {
     "data": {
      "text/plain": [
       "'value2'"
      ]
     },
     "execution_count": 20,
     "metadata": {},
     "output_type": "execute_result"
    }
   ],
   "source": [
    "# Call values by their key\n",
    "md['key2']"
   ]
  },
  {
   "cell_type": "markdown",
   "metadata": {
    "id": "oT_C8fZfoCzt"
   },
   "source": [
    "Note that dictionaries are very flexible in the data types they can hold. For example:"
   ]
  },
  {
   "cell_type": "code",
   "execution_count": 21,
   "metadata": {
    "id": "KcQjGSsJoCzt"
   },
   "outputs": [],
   "source": [
    "md={'key1':123,'key2':[12,32,34],'key3':['item0','item1','item2']}"
   ]
  },
  {
   "cell_type": "code",
   "execution_count": 22,
   "metadata": {
    "id": "TPwsy2wooCzt"
   },
   "outputs": [
    {
     "data": {
      "text/plain": [
       "['item0', 'item1', 'item2']"
      ]
     },
     "execution_count": 22,
     "metadata": {},
     "output_type": "execute_result"
    }
   ],
   "source": [
    "#Let's call items from the dictionary\n",
    "md['key3']"
   ]
  },
  {
   "cell_type": "code",
   "execution_count": 24,
   "metadata": {
    "id": "AtWQKdZNoCzt"
   },
   "outputs": [
    {
     "data": {
      "text/plain": [
       "'item0'"
      ]
     },
     "execution_count": 24,
     "metadata": {},
     "output_type": "execute_result"
    }
   ],
   "source": [
    "# Can call an index on that value\n",
    "md['key3'][0]"
   ]
  },
  {
   "cell_type": "code",
   "execution_count": 25,
   "metadata": {
    "id": "FELI5gi0oCzt"
   },
   "outputs": [
    {
     "data": {
      "text/plain": [
       "'ITEM0'"
      ]
     },
     "execution_count": 25,
     "metadata": {},
     "output_type": "execute_result"
    }
   ],
   "source": [
    "#Can then even call methods on that value\n",
    "md['key3'][0].upper()"
   ]
  },
  {
   "cell_type": "markdown",
   "metadata": {
    "id": "2UeQl5-9oCzt"
   },
   "source": [
    "We can effect the values of a key as well. For instance:"
   ]
  },
  {
   "cell_type": "code",
   "execution_count": 26,
   "metadata": {
    "id": "0E8IjofyoCzu"
   },
   "outputs": [
    {
     "data": {
      "text/plain": [
       "123"
      ]
     },
     "execution_count": 26,
     "metadata": {},
     "output_type": "execute_result"
    }
   ],
   "source": [
    "md['key1']"
   ]
  },
  {
   "cell_type": "code",
   "execution_count": 27,
   "metadata": {
    "id": "pHUUtsFeoCzu"
   },
   "outputs": [],
   "source": [
    "# Subtract 123 from the value\n",
    "md['key1']=md['key1']-123"
   ]
  },
  {
   "cell_type": "code",
   "execution_count": 28,
   "metadata": {
    "id": "s-fdMoYRoCzu"
   },
   "outputs": [
    {
     "data": {
      "text/plain": [
       "0"
      ]
     },
     "execution_count": 28,
     "metadata": {},
     "output_type": "execute_result"
    }
   ],
   "source": [
    "#Check\n",
    "md['key1']"
   ]
  },
  {
   "cell_type": "markdown",
   "metadata": {
    "id": "l2FXH7UWoCzv"
   },
   "source": [
    "\\Note, Python has a built-in method of doing a self subtraction or addition (or multiplication or division). We could also use += or -= for the above statement. For example:"
   ]
  },
  {
   "cell_type": "code",
   "execution_count": 31,
   "metadata": {
    "id": "8gEKM-zyoCzv"
   },
   "outputs": [
    {
     "data": {
      "text/plain": [
       "-246"
      ]
     },
     "execution_count": 31,
     "metadata": {},
     "output_type": "execute_result"
    }
   ],
   "source": [
    "# Set the object equal to itself minus 123\n",
    "md['key1']-=123\n",
    "md['key1']"
   ]
  },
  {
   "cell_type": "markdown",
   "metadata": {
    "id": "L08d-CchoCzv"
   },
   "source": [
    "We can also create keys by assignment. For instance if we started off with an empty dictionary, we could continually add to it:"
   ]
  },
  {
   "cell_type": "code",
   "execution_count": 32,
   "metadata": {
    "id": "ytRFkNEToCzw"
   },
   "outputs": [],
   "source": [
    "# Create a new dictionary\n",
    "d={}"
   ]
  },
  {
   "cell_type": "code",
   "execution_count": 34,
   "metadata": {
    "id": "royDDbZroCzw"
   },
   "outputs": [],
   "source": [
    "# Create a new key through assignment\n",
    "d['animal']='dog'"
   ]
  },
  {
   "cell_type": "code",
   "execution_count": 35,
   "metadata": {
    "id": "wpxBUqQdoCzw"
   },
   "outputs": [],
   "source": [
    "# Can do this with any object\n",
    "d['answer']=43"
   ]
  },
  {
   "cell_type": "code",
   "execution_count": 36,
   "metadata": {
    "id": "oVtuur-xoCzw"
   },
   "outputs": [
    {
     "data": {
      "text/plain": [
       "{'animal': 'dog', 'answer': 43}"
      ]
     },
     "execution_count": 36,
     "metadata": {},
     "output_type": "execute_result"
    }
   ],
   "source": [
    "#Show\n",
    "d"
   ]
  },
  {
   "cell_type": "markdown",
   "metadata": {
    "id": "HPZe69d2oCzw"
   },
   "source": [
    "## Nesting with Dictionaries\n",
    "\n",
    "Let's understand how flexible Python is with nesting objects and calling methods on them. let's have a look at the dictionary nested inside a dictionary:"
   ]
  },
  {
   "cell_type": "code",
   "execution_count": 37,
   "metadata": {
    "id": "I2pscf_JoCzw"
   },
   "outputs": [],
   "source": [
    "# Dictionary nested inside a dictionary nested in side a dictionary\n",
    "d={'key1':{'nestkey':{'subnestkey':'value'}}}"
   ]
  },
  {
   "cell_type": "markdown",
   "metadata": {
    "id": "G6Kk--ysoCzw"
   },
   "source": [
    "Thats the inception of dictionaries. Now, Let's see how we can grab that value:"
   ]
  },
  {
   "cell_type": "code",
   "execution_count": 39,
   "metadata": {
    "id": "8-x1z0xooCzx"
   },
   "outputs": [
    {
     "data": {
      "text/plain": [
       "'value'"
      ]
     },
     "execution_count": 39,
     "metadata": {},
     "output_type": "execute_result"
    }
   ],
   "source": [
    "# Keep calling the keys\n",
    "d['key1']['nestkey']['subnestkey']"
   ]
  },
  {
   "cell_type": "markdown",
   "metadata": {
    "id": "bmH8Gvx4oCzx"
   },
   "source": [
    "## A few Dictionary Methods\n",
    "\n",
    "There are a few methods we can call on a dictionary. Let's get a quick introduction to a few methods:"
   ]
  },
  {
   "cell_type": "code",
   "execution_count": 40,
   "metadata": {
    "id": "dgh6ISAzoCzx"
   },
   "outputs": [],
   "source": [
    "# Create a typical dictionary\n",
    "d={'key1':1,'key2':2,'key3':3}"
   ]
  },
  {
   "cell_type": "code",
   "execution_count": 41,
   "metadata": {
    "id": "tPmPYbD9oCzx"
   },
   "outputs": [
    {
     "data": {
      "text/plain": [
       "dict_keys(['key1', 'key2', 'key3'])"
      ]
     },
     "execution_count": 41,
     "metadata": {},
     "output_type": "execute_result"
    }
   ],
   "source": [
    "# Method to return a list of all keys\n",
    "d.keys()"
   ]
  },
  {
   "cell_type": "code",
   "execution_count": 42,
   "metadata": {
    "id": "A8CHsOzFoCzx"
   },
   "outputs": [
    {
     "data": {
      "text/plain": [
       "dict_values([1, 2, 3])"
      ]
     },
     "execution_count": 42,
     "metadata": {},
     "output_type": "execute_result"
    }
   ],
   "source": [
    "# Method to grab all values\n",
    "d.values()"
   ]
  },
  {
   "cell_type": "code",
   "execution_count": 43,
   "metadata": {
    "id": "sp1yo9jeoCzx"
   },
   "outputs": [
    {
     "data": {
      "text/plain": [
       "dict_items([('key1', 1), ('key2', 2), ('key3', 3)])"
      ]
     },
     "execution_count": 43,
     "metadata": {},
     "output_type": "execute_result"
    }
   ],
   "source": [
    "# Method to return tuples of all items  (we'll learn about tuples soon)\n",
    "d.items()"
   ]
  },
  {
   "cell_type": "markdown",
   "metadata": {
    "id": "t_tfGJMGoCzx"
   },
   "source": []
  },
  {
   "cell_type": "markdown",
   "metadata": {
    "id": "o3LDUY68oCzy"
   },
   "source": [
    "## Dictionary Comprehensions\n",
    "\n",
    "Just like List Comprehensions, Dictionary Data Types also support their own version of comprehension for quick creation. It is not as commonly used as List Comprehensions, but the syntax is:"
   ]
  },
  {
   "cell_type": "code",
   "execution_count": 44,
   "metadata": {
    "id": "tsrOTtjtoCzy"
   },
   "outputs": [
    {
     "data": {
      "text/plain": [
       "{0: 0, 1: 1, 2: 4, 3: 9, 4: 16, 5: 25, 6: 36, 7: 49, 8: 64, 9: 81}"
      ]
     },
     "execution_count": 44,
     "metadata": {},
     "output_type": "execute_result"
    }
   ],
   "source": [
    "{x:x**2 for x in range(10)}"
   ]
  },
  {
   "cell_type": "code",
   "execution_count": 45,
   "metadata": {
    "id": "_puto92EoCzy"
   },
   "outputs": [
    {
     "name": "stdout",
     "output_type": "stream",
     "text": [
      "[0, 1, 2, 3, 4, 5, 6, 7, 8, 9]\n"
     ]
    }
   ],
   "source": [
    "print(list(range(10)))"
   ]
  },
  {
   "cell_type": "markdown",
   "metadata": {
    "id": "RfJCDrs9oCzy"
   },
   "source": [
    "One of the reasons is the difficulty in structuring the key names that are not based on the values."
   ]
  },
  {
   "cell_type": "markdown",
   "metadata": {
    "id": "TdEFcsbGoCzy"
   },
   "source": [
    "# Functions\n",
    "\n",
    "## Introduction to Functions\n",
    "\n",
    "What is a function in Python and how to create a function?\n",
    "\n",
    "Functions will be one of our main building blocks when we construct larger and larger amount of code to solve problems.\n",
    "\n",
    "**So what is a function?**\n",
    "\n",
    "A function groups a set of statements together to run the statements more than once. It allows us to specify parameters that can serve as inputs to the functions.\n",
    "\n",
    "Functions allow us to reuse the code instead of writing the code again and again. If you recall strings and lists, remember that len() function is used to find the length of a string. Since checking the length of a sequence is a common task, you would want to write a function that can do this repeatedly at command.\n",
    "\n",
    "Function is one of the most basic levels of reusing code in Python, and it will also allow us to start thinking of program design."
   ]
  },
  {
   "cell_type": "markdown",
   "metadata": {
    "id": "7DTXEGlMoCzy"
   },
   "source": [
    "## def Statements\n",
    "\n",
    "Now, let us learn how to build a function and what is the syntax in Python.\n",
    "\n",
    "The syntax for def statements will be in the following form:"
   ]
  },
  {
   "cell_type": "code",
   "execution_count": 47,
   "metadata": {
    "id": "4s4F1g7YoCzy"
   },
   "outputs": [
    {
     "ename": "SyntaxError",
     "evalue": "incomplete input (1685436595.py, line 3)",
     "output_type": "error",
     "traceback": [
      "\u001b[1;36m  Cell \u001b[1;32mIn[47], line 3\u001b[1;36m\u001b[0m\n\u001b[1;33m    def name_of_function(arg1,arg2):\u001b[0m\n\u001b[1;37m                                    ^\u001b[0m\n\u001b[1;31mSyntaxError\u001b[0m\u001b[1;31m:\u001b[0m incomplete input\n"
     ]
    }
   ],
   "source": [
    "\n",
    "    # Do stuff here\n",
    "    #return desired result\n",
    "    def name_of_function(arg1,arg2):"
   ]
  },
  {
   "cell_type": "markdown",
   "metadata": {
    "id": "0GCfhvLkoCzz"
   },
   "source": [
    "We begin with def then a space followed by the name of the function. Try to keep names relevant and simple as possible, for example, len() is a good name for a length() function. Also be careful with names, you wouldn't want to call a function the same name as a [built-in function in Python](https://docs.python.org/2/library/functions.html) (such as len).\n",
    "\n",
    "Next, comes the number of arguments separated by a comma within a pair of parenthesis which acts as input to the defined function,  reference them and the function definition with a colon.  \n",
    "\n",
    "Here comes the important step to indent to begin the code inside the defined functions properly. Also remember, Python makes use of *whitespace* to organize code and lot of other programming languages do not do this.\n",
    "\n",
    "Next, you'll see the doc-string where you write the basic description of the function. Using iPython and iPython Notebooks, you'll be able to read these doc-strings by pressing Shift+Tab after a function name. It is not mandatory to include docstrings with simple functions, but it is a good practice to put them as this will help the programmers to easily understand the code you write.\n",
    "\n",
    "After all this, you can begin writing the code you wish to execute.\n",
    "\n",
    "The best way to learn functions is by going through examples. So let's try to analyze and understand examples that relate back to the various objects and data structures we learned."
   ]
  },
  {
   "cell_type": "markdown",
   "metadata": {
    "id": "gS6GBX55oCzz"
   },
   "source": [
    "### Example 1: A simple print 'hello' function"
   ]
  },
  {
   "cell_type": "code",
   "execution_count": 48,
   "metadata": {
    "id": "uH-oMi5CoCzz"
   },
   "outputs": [],
   "source": [
    "def say_hello():\n",
    "    print('hello')"
   ]
  },
  {
   "cell_type": "markdown",
   "metadata": {
    "id": "LR3Ab98RoCzz"
   },
   "source": [
    "Call the function"
   ]
  },
  {
   "cell_type": "code",
   "execution_count": 49,
   "metadata": {
    "id": "PtsHV0NvoCzz"
   },
   "outputs": [
    {
     "name": "stdout",
     "output_type": "stream",
     "text": [
      "hello\n"
     ]
    }
   ],
   "source": [
    "say_hello()"
   ]
  },
  {
   "cell_type": "markdown",
   "metadata": {
    "id": "_lk4Boj3oCzz"
   },
   "source": [
    "### Example 2: A simple greeting function\n",
    "Let's write a function that greets people with their name."
   ]
  },
  {
   "cell_type": "code",
   "execution_count": 52,
   "metadata": {
    "id": "poB_9nsNoCzz"
   },
   "outputs": [],
   "source": [
    "def greeting(name):\n",
    "    print('hello %s' %name)"
   ]
  },
  {
   "cell_type": "code",
   "execution_count": 53,
   "metadata": {
    "id": "JeT-ZqTCoCzz"
   },
   "outputs": [
    {
     "name": "stdout",
     "output_type": "stream",
     "text": [
      "hello ronaldo\n"
     ]
    }
   ],
   "source": [
    "greeting('ronaldo')"
   ]
  },
  {
   "cell_type": "markdown",
   "metadata": {
    "id": "lwCZT05EoCzz"
   },
   "source": [
    "## Using return\n",
    "Let's see some examples that use a return statement. Return allows a function to \"return\" a result that can then be stored as a variable, or used in whatever manner a user wants.\n",
    "\n",
    "### Example 3: Addition function"
   ]
  },
  {
   "cell_type": "code",
   "execution_count": 57,
   "metadata": {
    "id": "xz-U3W01oCzz"
   },
   "outputs": [],
   "source": [
    "def add_num(num1,num2):\n",
    "    return num1+num2\n"
   ]
  },
  {
   "cell_type": "code",
   "execution_count": 58,
   "metadata": {
    "id": "g1tUt_whoCz0"
   },
   "outputs": [
    {
     "data": {
      "text/plain": [
       "9"
      ]
     },
     "execution_count": 58,
     "metadata": {},
     "output_type": "execute_result"
    }
   ],
   "source": [
    "add_num(4,5)"
   ]
  },
  {
   "cell_type": "code",
   "execution_count": 60,
   "metadata": {
    "id": "I7aFtfX9oCz0"
   },
   "outputs": [],
   "source": [
    "# Can also save as variable due to return\n",
    "result=add_num(4,5)"
   ]
  },
  {
   "cell_type": "code",
   "execution_count": 61,
   "metadata": {
    "id": "dz9GbVG7oCz0"
   },
   "outputs": [
    {
     "name": "stdout",
     "output_type": "stream",
     "text": [
      "9\n"
     ]
    }
   ],
   "source": [
    "print(result)"
   ]
  },
  {
   "cell_type": "markdown",
   "metadata": {
    "id": "I-ts8NCooCz0"
   },
   "source": [
    "What happens if we input two strings?"
   ]
  },
  {
   "cell_type": "code",
   "execution_count": 62,
   "metadata": {
    "id": "QFltjMlyoCz0"
   },
   "outputs": [
    {
     "name": "stdout",
     "output_type": "stream",
     "text": [
      "one\ttwo\n"
     ]
    }
   ],
   "source": [
    "print(add_num('one\\t','two'))"
   ]
  },
  {
   "cell_type": "markdown",
   "metadata": {
    "id": "RhEb3TQfoCz0"
   },
   "source": [
    "In Python we don't declare variable types, this function could be used to add numbers or sequences together! Going forward, We'll learn about adding in checks to make sure a user puts in the correct arguments into a function.\n",
    "\n",
    "Let's also start using *break*,*continue*, and *pass* statements in our code. We introduced these during the while lecture."
   ]
  },
  {
   "cell_type": "markdown",
   "metadata": {
    "collapsed": true,
    "id": "OS9ph45XoCz1"
   },
   "source": [
    "Now, let's see a complete example of creating a function to check if a number is prime (a common interview exercise).\n",
    "\n",
    "We know a number is said to be prime if that number is only divisible by 1 and itself. Let's write our first version of the function to check all the numbers from 1 to N and perform modulo checks."
   ]
  },
  {
   "cell_type": "code",
   "execution_count": 64,
   "metadata": {
    "id": "tnuS6-p2oCz1"
   },
   "outputs": [],
   "source": [
    "# If never mod zero, then prime\n",
    "def is_prime(num):\n",
    "    for n in range(2,num):\n",
    "        if num % n==0:\n",
    "            print('not prime')\n",
    "    else:\n",
    "                print('prime')"
   ]
  },
  {
   "cell_type": "code",
   "execution_count": 65,
   "metadata": {
    "id": "xoNAZUO4oCz1"
   },
   "outputs": [
    {
     "name": "stdout",
     "output_type": "stream",
     "text": [
      "prime\n"
     ]
    }
   ],
   "source": [
    "is_prime(11)"
   ]
  },
  {
   "cell_type": "code",
   "execution_count": 72,
   "metadata": {},
   "outputs": [
    {
     "name": "stdout",
     "output_type": "stream",
     "text": [
      "prime\n"
     ]
    }
   ],
   "source": [
    "is_prime(1)"
   ]
  },
  {
   "cell_type": "markdown",
   "metadata": {
    "id": "FawfQ33xoCz2"
   },
   "source": [
    "Note that how we break the code after the print statement! We can actually improve this by only checking to the square root of the target number, also we can disregard all even numbers after checking for 2. We'll also switch to returning a boolean value to get an example of using return statements:"
   ]
  },
  {
   "cell_type": "code",
   "execution_count": 78,
   "metadata": {},
   "outputs": [],
   "source": [
    "import math\n",
    "def is_prime(num):\n",
    "    if num % 2==0 and num>2:\n",
    "        return False\n",
    "    for i in range(3,int(math.sqrt(num))+1,2):\n",
    "        if num % i==0:\n",
    "            return False\n",
    "        return True"
   ]
  },
  {
   "cell_type": "code",
   "execution_count": 79,
   "metadata": {
    "id": "xV4rGJjzoCz2"
   },
   "outputs": [
    {
     "data": {
      "text/plain": [
       "False"
      ]
     },
     "execution_count": 79,
     "metadata": {},
     "output_type": "execute_result"
    }
   ],
   "source": [
    "is_prime(10)"
   ]
  },
  {
   "cell_type": "code",
   "execution_count": 80,
   "metadata": {
    "id": "Xzg_5GogoCz2"
   },
   "outputs": [
    {
     "data": {
      "text/plain": [
       "True"
      ]
     },
     "execution_count": 80,
     "metadata": {},
     "output_type": "execute_result"
    }
   ],
   "source": [
    "is_prime(11)"
   ]
  },
  {
   "cell_type": "code",
   "execution_count": 84,
   "metadata": {
    "id": "HLTrpDx0oCz2"
   },
   "outputs": [
    {
     "data": {
      "text/plain": [
       "False"
      ]
     },
     "execution_count": 84,
     "metadata": {},
     "output_type": "execute_result"
    }
   ],
   "source": [
    "is_prime(12)"
   ]
  },
  {
   "cell_type": "markdown",
   "metadata": {
    "id": "ypMzFGlKoCz2"
   },
   "source": [
    "# Iterators and Generators"
   ]
  },
  {
   "cell_type": "markdown",
   "metadata": {
    "id": "yhBZvly6oCz2"
   },
   "source": [
    "In this section, you will be learning the differences between iterations and generation in Python and also how to construct our own generators with the \"yield\" statement. Generators allow us to generate as we go along instead of storing everything in the memory.\n",
    "\n",
    "We have learned, how to create functions with \"def\" and the \"return\" statement. In Python, Generator function allow us to write a function that can send back a value and then later resume to pick up where it was left. It also allows us to generate a sequence of values over time. The main difference in syntax will be the use of a **yield** statement.\n",
    "\n",
    "In most aspects, a generator function will appear very similar to a normal function. The main difference is when a generator function is called and compiled they become an object that supports an iteration protocol. That means when they are called they don't actually return a value and then exit, the generator functions will automatically suspend and resume their execution and state around the last point of value generation.\n",
    "\n",
    "The main advantage here is \"state suspension\" which means, instead of computing an entire series of values upfront and the generator functions can be suspended. To understand this concept better let's go ahead and learn how to create some generator functions."
   ]
  },
  {
   "cell_type": "code",
   "execution_count": 85,
   "metadata": {
    "id": "3wQaHUOroCz2"
   },
   "outputs": [],
   "source": [
    "# Generator function for the cube of numbers (power of 3)\n",
    "def gencubes(n):\n",
    "     for num in range(n):\n",
    "            yield num**3"
   ]
  },
  {
   "cell_type": "code",
   "execution_count": 86,
   "metadata": {
    "id": "mZemTNyNoCz3",
    "scrolled": true
   },
   "outputs": [
    {
     "name": "stdout",
     "output_type": "stream",
     "text": [
      "0\n",
      "1\n",
      "8\n",
      "27\n",
      "64\n",
      "125\n",
      "216\n",
      "343\n",
      "512\n",
      "729\n"
     ]
    }
   ],
   "source": [
    "for x in gencubes(10):\n",
    "    print(x)"
   ]
  },
  {
   "cell_type": "markdown",
   "metadata": {
    "id": "PJpC4fLjoCz3"
   },
   "source": [
    "Great! since we have a generator function we don't have to keep track of every single cube we created.\n",
    "\n",
    "Generators are the best for calculating large sets of results (particularly in calculations that involve loops themselves) when we don't want to allocate memory for all of the results at the same time.\n",
    "\n",
    "Let's create another sample generator which calculates [fibonacci](https://en.wikipedia.org/wiki/Fibonacci_number) numbers:"
   ]
  },
  {
   "cell_type": "code",
   "execution_count": 91,
   "metadata": {
    "id": "8WRLfIRioCz3"
   },
   "outputs": [],
   "source": [
    "def genfibon(n):\n",
    "    a=1\n",
    "    b=1\n",
    "    for i in range(n):\n",
    "        yield a\n",
    "        a,b=b,a+b"
   ]
  },
  {
   "cell_type": "code",
   "execution_count": 92,
   "metadata": {
    "id": "_rqCLS0loCz3"
   },
   "outputs": [
    {
     "name": "stdout",
     "output_type": "stream",
     "text": [
      "1\n",
      "1\n",
      "2\n",
      "3\n",
      "5\n",
      "8\n",
      "13\n",
      "21\n",
      "34\n",
      "55\n"
     ]
    }
   ],
   "source": [
    "for num in genfibon(10):\n",
    "    print(num)"
   ]
  },
  {
   "cell_type": "markdown",
   "metadata": {
    "id": "2hNbhLkooCz3"
   },
   "source": [
    "What if this was a normal function, what would it look like?"
   ]
  },
  {
   "cell_type": "code",
   "execution_count": 93,
   "metadata": {
    "id": "csFf-VhHoCz3"
   },
   "outputs": [],
   "source": [
    "def fibon(n):\n",
    "    a=1\n",
    "    b=1\n",
    "    output=[]\n",
    "    for i in range(n):\n",
    "        output.append(a)\n",
    "        a,b=b,a+b\n",
    "        return output"
   ]
  },
  {
   "cell_type": "code",
   "execution_count": 94,
   "metadata": {
    "id": "wFBDZ415oCz4"
   },
   "outputs": [
    {
     "data": {
      "text/plain": [
       "[1]"
      ]
     },
     "execution_count": 94,
     "metadata": {},
     "output_type": "execute_result"
    }
   ],
   "source": [
    "fibon(10)"
   ]
  },
  {
   "cell_type": "markdown",
   "metadata": {
    "id": "vS7xl0MEoCz4"
   },
   "source": [
    "Note, if we call some huge value of \"n\", the second function will have to keep track of every single result. In our case, we only care about the previous result to generate the next one.\n",
    "\n",
    "\n",
    "## next() and iter() built-in functions\n",
    "\n",
    "A key to fully understand generators is the next() and the iter() function.\n",
    "\n",
    "The next function allows us to access the next element in a sequence. Let's check how it works."
   ]
  },
  {
   "cell_type": "code",
   "execution_count": 95,
   "metadata": {
    "id": "CU2ZSge1oCz4"
   },
   "outputs": [
    {
     "name": "stdout",
     "output_type": "stream",
     "text": [
      "[0, 1, 2]\n"
     ]
    }
   ],
   "source": [
    "print(list(range(3)))"
   ]
  },
  {
   "cell_type": "code",
   "execution_count": 98,
   "metadata": {
    "id": "4qf23Y5NoCz4"
   },
   "outputs": [],
   "source": [
    "def simple_gen():\n",
    "    for x in range(3):\n",
    "        yield x"
   ]
  },
  {
   "cell_type": "code",
   "execution_count": 99,
   "metadata": {
    "id": "ce9XguR1oCz4"
   },
   "outputs": [],
   "source": [
    "# Assign simple_gen\n",
    "g=simple_gen()"
   ]
  },
  {
   "cell_type": "code",
   "execution_count": 100,
   "metadata": {
    "id": "JZv4ta4IoCz4"
   },
   "outputs": [
    {
     "name": "stdout",
     "output_type": "stream",
     "text": [
      "0\n"
     ]
    }
   ],
   "source": [
    "print(next(g))"
   ]
  },
  {
   "cell_type": "code",
   "execution_count": 101,
   "metadata": {
    "id": "LcKLEf9eoCz4"
   },
   "outputs": [
    {
     "name": "stdout",
     "output_type": "stream",
     "text": [
      "1\n"
     ]
    }
   ],
   "source": [
    "print(next(g))"
   ]
  },
  {
   "cell_type": "code",
   "execution_count": 102,
   "metadata": {
    "id": "9aiW1a_toCz4"
   },
   "outputs": [
    {
     "name": "stdout",
     "output_type": "stream",
     "text": [
      "2\n"
     ]
    }
   ],
   "source": [
    "print(next(g))\n"
   ]
  },
  {
   "cell_type": "code",
   "execution_count": 103,
   "metadata": {
    "id": "sI1zDMoSoCz5"
   },
   "outputs": [
    {
     "ename": "StopIteration",
     "evalue": "",
     "output_type": "error",
     "traceback": [
      "\u001b[1;31m---------------------------------------------------------------------------\u001b[0m",
      "\u001b[1;31mStopIteration\u001b[0m                             Traceback (most recent call last)",
      "Cell \u001b[1;32mIn[103], line 1\u001b[0m\n\u001b[1;32m----> 1\u001b[0m \u001b[38;5;28mprint\u001b[39m(\u001b[38;5;28mnext\u001b[39m(g))\n",
      "\u001b[1;31mStopIteration\u001b[0m: "
     ]
    }
   ],
   "source": [
    "print(next(g))"
   ]
  },
  {
   "cell_type": "markdown",
   "metadata": {
    "id": "1vhGeJSaoCz5"
   },
   "source": [
    "After yielding all the values next() caused a StopIteration error. What this error informs us that all the values have been yielded.\n",
    "\n",
    "You might be wondering that why don’t we get this error while using a for loop? The \"for loop\" automatically catches this error and stops calling next.\n",
    "\n",
    "Let's go ahead and check out how to use iter(). You remember that strings are iterable:"
   ]
  },
  {
   "cell_type": "code",
   "execution_count": 104,
   "metadata": {
    "id": "1vpAp2tJoCz5"
   },
   "outputs": [
    {
     "name": "stdout",
     "output_type": "stream",
     "text": [
      "h\n",
      "e\n",
      "l\n",
      "l\n",
      "o\n"
     ]
    }
   ],
   "source": [
    "\n",
    "#Iterate over string\n",
    "s='hello'\n",
    "for i in s:\n",
    "    print(i)"
   ]
  },
  {
   "cell_type": "markdown",
   "metadata": {
    "id": "vqznm_P5oCz5"
   },
   "source": [
    "But that doesn't mean the string itself is an *iterator*! We can check this with the next() function:"
   ]
  },
  {
   "cell_type": "code",
   "execution_count": 105,
   "metadata": {
    "id": "qZD0ObT1oCz5"
   },
   "outputs": [
    {
     "ename": "TypeError",
     "evalue": "'str' object is not an iterator",
     "output_type": "error",
     "traceback": [
      "\u001b[1;31m---------------------------------------------------------------------------\u001b[0m",
      "\u001b[1;31mTypeError\u001b[0m                                 Traceback (most recent call last)",
      "Cell \u001b[1;32mIn[105], line 1\u001b[0m\n\u001b[1;32m----> 1\u001b[0m \u001b[38;5;28mnext\u001b[39m(s)\n",
      "\u001b[1;31mTypeError\u001b[0m: 'str' object is not an iterator"
     ]
    }
   ],
   "source": [
    "next(s)"
   ]
  },
  {
   "cell_type": "markdown",
   "metadata": {
    "id": "epeDQLnzoCz5"
   },
   "source": [
    "This means that a string object supports iteration, but we can not directly iterate over it as we could with a generator function. The iter() function allows us to do just that!"
   ]
  },
  {
   "cell_type": "code",
   "execution_count": 107,
   "metadata": {
    "id": "veO7b_wcoCz6"
   },
   "outputs": [],
   "source": [
    "s_iter=iter(s)"
   ]
  },
  {
   "cell_type": "code",
   "execution_count": 108,
   "metadata": {},
   "outputs": [
    {
     "data": {
      "text/plain": [
       "'h'"
      ]
     },
     "execution_count": 108,
     "metadata": {},
     "output_type": "execute_result"
    }
   ],
   "source": [
    "next(s_iter)"
   ]
  },
  {
   "cell_type": "code",
   "execution_count": 109,
   "metadata": {},
   "outputs": [
    {
     "data": {
      "text/plain": [
       "'e'"
      ]
     },
     "execution_count": 109,
     "metadata": {},
     "output_type": "execute_result"
    }
   ],
   "source": [
    "next(s_iter)"
   ]
  },
  {
   "cell_type": "markdown",
   "metadata": {
    "id": "4N_gHCw5oCz9"
   },
   "source": [
    "# map()\n",
    "\n",
    "The map() is a function that takes in two arguments:\n",
    "1. A function\n",
    "2. A sequence iterable.\n",
    "\n",
    "In the form: map(function, sequence)\n",
    "    \n",
    "The first argument is the name of a function and the second a sequence (e.g. a list). map() applies the function to all the elements of the sequence. It returns a new list with the elements changed by the function.\n",
    "\n",
    "When we went over list comprehension we created a small expression to convert Fahrenheit to Celsius. Let's do the same here but use map.\n",
    "\n",
    "We'll start with two functions:"
   ]
  },
  {
   "cell_type": "code",
   "execution_count": 110,
   "metadata": {
    "id": "d_RA89sSoCz9"
   },
   "outputs": [],
   "source": [
    "def fahrenheit(T):\n",
    "    return((float(9)/5)*T+32)\n",
    "def celsius(T):\n",
    "    return(float(5)/9)*(T-32)\n",
    "temp=[0,22.5,40,100]"
   ]
  },
  {
   "cell_type": "markdown",
   "metadata": {
    "id": "Ca4TiseboCz9"
   },
   "source": [
    "Now let's see map() in action:"
   ]
  },
  {
   "cell_type": "code",
   "execution_count": 111,
   "metadata": {
    "id": "90RJUskpoCz9"
   },
   "outputs": [
    {
     "data": {
      "text/plain": [
       "[32.0, 72.5, 104.0, 212.0]"
      ]
     },
     "execution_count": 111,
     "metadata": {},
     "output_type": "execute_result"
    }
   ],
   "source": [
    "\n",
    "#Show\n",
    "F_temps=list(map(fahrenheit,temp))\n",
    "F_temps"
   ]
  },
  {
   "cell_type": "code",
   "execution_count": 112,
   "metadata": {
    "id": "l87BTg-ooCz9"
   },
   "outputs": [
    {
     "data": {
      "text/plain": [
       "[0.0, 22.5, 40.0, 100.0]"
      ]
     },
     "execution_count": 112,
     "metadata": {},
     "output_type": "execute_result"
    }
   ],
   "source": [
    "# Convert back\n",
    "list(map(celsius,F_temps))"
   ]
  },
  {
   "cell_type": "markdown",
   "metadata": {
    "id": "Rts5JFaZoCz9"
   },
   "source": [
    "In the example above, we haven't used a lambda expression. By using lambda, it is not necessary to define and name fahrenheit() and celsius() functions."
   ]
  },
  {
   "cell_type": "code",
   "execution_count": 118,
   "metadata": {
    "id": "cZEnh0qsoCz-"
   },
   "outputs": [],
   "source": [
    "a=[1,2,3,4]\n",
    "b=[5,6,7,8]\n",
    "c=[9,10,11,12]"
   ]
  },
  {
   "cell_type": "markdown",
   "metadata": {
    "id": "bSvBN2YVoCz-"
   },
   "source": [
    "Map is more commonly used with lambda expressions since the entire purpose of a map() is to save effort on creating manual for loops."
   ]
  },
  {
   "cell_type": "markdown",
   "metadata": {
    "id": "eXYnkJBxoCz-"
   },
   "source": [
    "map() can be applied to more than one iterable. The iterables must have the same length.\n",
    "\n",
    "For instance, if we are working with two lists-map() will apply its lambda function to the elements of the argument lists, i.e. it first applies to the elements with the 0th index, then to the elements with the 1st index until the nth index is reached.\n",
    "\n",
    "For example, let's map a lambda expression to two lists:"
   ]
  },
  {
   "cell_type": "code",
   "execution_count": 119,
   "metadata": {
    "id": "p9nJ14bAoCz-"
   },
   "outputs": [
    {
     "data": {
      "text/plain": [
       "[6, 8, 10, 12]"
      ]
     },
     "execution_count": 119,
     "metadata": {},
     "output_type": "execute_result"
    }
   ],
   "source": [
    "list(map(lambda x,y:x+y,a,b))\n"
   ]
  },
  {
   "cell_type": "code",
   "execution_count": 117,
   "metadata": {
    "id": "gEf2cnE8oCz-"
   },
   "outputs": [
    {
     "data": {
      "text/plain": [
       "[15, 18, 21, 24]"
      ]
     },
     "execution_count": 117,
     "metadata": {},
     "output_type": "execute_result"
    }
   ],
   "source": [
    "# Now all three lists\n",
    "list(map(lambda x,y,z:x+y+z,a,b,c))\n",
    "\n"
   ]
  },
  {
   "cell_type": "markdown",
   "metadata": {
    "id": "tn7N8_SyoCz-"
   },
   "source": [
    "In the above example, the parameter 'x' gets its values from the list 'a', while 'y' gets its values from 'b' and 'z' from list 'c'. Go ahead and create your own example to make sure that you completely understand mapping more than one iterable."
   ]
  },
  {
   "cell_type": "markdown",
   "metadata": {
    "id": "nPdAyzOZoCz-"
   },
   "source": [
    "# reduce()\n",
    "\n",
    "The function reduce(function, sequence) continually applies the function to the sequence. It then returns a single value.\n",
    "\n",
    "If seq = [s1, s2, s3, ... , sn], calling reduce(function, sequence) works like this:\n",
    "\n",
    "* At first the first two elements of sequence will be applied to function, i.e. func(s1,s2)\n",
    "* The list on which reduce() works looks like this: [ function(s1, s2), s3, ... , sn ]\n",
    "* In the next step the function will be applied on the previous result and the third element of the list, i.e. function(function(s1, s2),s3)\n",
    "* The list looks like: [ function(function(s1, s2),s3), ... , sn ]\n",
    "* It continues like this until just one element is left and return this element as the result of reduce()\n",
    "\n",
    "Let's see an example:"
   ]
  },
  {
   "cell_type": "code",
   "execution_count": 133,
   "metadata": {
    "id": "fJlUdn_3oCz-"
   },
   "outputs": [
    {
     "data": {
      "text/plain": [
       "113"
      ]
     },
     "execution_count": 133,
     "metadata": {},
     "output_type": "execute_result"
    }
   ],
   "source": [
    "from functools import reduce\n",
    "lst=[47,11,42,13]\n",
    "reduce(lambda x,y:x+y,lst)"
   ]
  },
  {
   "cell_type": "markdown",
   "metadata": {
    "id": "6iHBukI0oCz-"
   },
   "source": [
    "Let's look at a diagram to get a better understanding of what is going on here:"
   ]
  },
  {
   "cell_type": "code",
   "execution_count": 2,
   "metadata": {
    "id": "z_xbknLXoCz-"
   },
   "outputs": [
    {
     "data": {
      "image/jpeg": "[encoded data removed]",
      "text/plain": [
       "<IPython.core.display.Image object>"
      ]
     },
     "execution_count": 2,
     "metadata": {},
     "output_type": "execute_result"
    }
   ],
   "source": [
    "from IPython.display import Image\n",
    "Image('https://images.freeimages.com/images/large-previews/1ca/brooklyn-bridge-at-night-1229607.jpg')"
   ]
  },
  {
   "cell_type": "markdown",
   "metadata": {
    "id": "ZVY7Q-HGoCz_"
   },
   "source": [
    "Note how we keep reducing the sequence until a single final value is obtained. Let's see another example:"
   ]
  },
  {
   "cell_type": "code",
   "execution_count": null,
   "metadata": {
    "id": "3mSsHL_DoCz_"
   },
   "outputs": [],
   "source": [
    "#Find the maximum of a sequence (This already exists as max())\n",
    "max_find=lambda a,b,:a if(a>b)else b"
   ]
  },
  {
   "cell_type": "code",
   "execution_count": 135,
   "metadata": {
    "id": "KYQ_2NMdoCz_"
   },
   "outputs": [
    {
     "name": "stdout",
     "output_type": "stream",
     "text": [
      "[47, 11, 42, 13]\n"
     ]
    },
    {
     "data": {
      "text/plain": [
       "11"
      ]
     },
     "execution_count": 135,
     "metadata": {},
     "output_type": "execute_result"
    }
   ],
   "source": [
    "#Find max\n",
    "print(lst)\n",
    "reduce(lambda a,b:a if(a<b)else b,lst)"
   ]
  },
  {
   "cell_type": "markdown",
   "metadata": {
    "id": "V90tpqYmoCz_"
   },
   "source": [
    "# filter\n",
    "\n",
    "The function filter(function, list) offers a convenient way to filter out all the elements of an iterable, for which the function returns \"True\".\n",
    "\n",
    "The function filter(function(),l) needs a function as its first argument. The function needs to return a Boolean value (either True or False). This function will be applied to every element of the iterable. Only if the function returns \"True\" will the element of the iterable be included in the result.\n",
    "\n",
    "Let's see some examples:"
   ]
  },
  {
   "cell_type": "code",
   "execution_count": 138,
   "metadata": {
    "id": "uZI6SXWOoCz_"
   },
   "outputs": [],
   "source": [
    "#First let's make a function\n",
    "def even_check(num):\n",
    "    if num%2==0:\n",
    "        return True"
   ]
  },
  {
   "cell_type": "markdown",
   "metadata": {
    "id": "zR3LTI-LoCz_"
   },
   "source": [
    "Now let's filter a list of numbers. Note that putting the function into filter without any parenthesis might feel strange, but keep in mind that functions are objects as well."
   ]
  },
  {
   "cell_type": "code",
   "execution_count": 139,
   "metadata": {
    "id": "nJnq_eA8oCz_"
   },
   "outputs": [
    {
     "data": {
      "text/plain": [
       "[0, 2, 4, 6, 8, 10, 12, 14, 16, 18]"
      ]
     },
     "execution_count": 139,
     "metadata": {},
     "output_type": "execute_result"
    }
   ],
   "source": [
    "lst=range(20)\n",
    "list(filter(even_check,lst))\n"
   ]
  },
  {
   "cell_type": "markdown",
   "metadata": {
    "id": "eAFg33CuoC0A"
   },
   "source": [
    "filter() is more commonly used with lambda functions, this because we usually use filter for a quick job where we don't want to write an entire function. Let's repeat the example above using a lambda expression:"
   ]
  },
  {
   "cell_type": "code",
   "execution_count": 140,
   "metadata": {
    "id": "lDFB-NuvoC0A"
   },
   "outputs": [
    {
     "data": {
      "text/plain": [
       "[0, 2, 4, 6, 8, 10, 12, 14, 16, 18]"
      ]
     },
     "execution_count": 140,
     "metadata": {},
     "output_type": "execute_result"
    }
   ],
   "source": [
    "list(filter(lambda x:x%2==0,lst))"
   ]
  },
  {
   "cell_type": "code",
   "execution_count": null,
   "metadata": {
    "id": "aq2I1qPvoC0A"
   },
   "outputs": [],
   "source": []
  }
 ],
 "metadata": {
  "colab": {
   "provenance": [
    {
     "file_id": "1DpPN7getM2lRF5lj0_0tMOoxiMEjatZB",
     "timestamp": 1693217475547
    }
   ]
  },
  "kernelspec": {
   "display_name": "Python 3 (ipykernel)",
   "language": "python",
   "name": "python3"
  },
  "language_info": {
   "codemirror_mode": {
    "name": "ipython",
    "version": 3
   },
   "file_extension": ".py",
   "mimetype": "text/x-python",
   "name": "python",
   "nbconvert_exporter": "python",
   "pygments_lexer": "ipython3",
   "version": "3.11.4"
  }
 },
 "nbformat": 4,
 "nbformat_minor": 1
}
